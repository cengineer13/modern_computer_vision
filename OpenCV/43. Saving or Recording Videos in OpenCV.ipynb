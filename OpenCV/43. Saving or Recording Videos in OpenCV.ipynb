{
 "cells": [
  {
   "cell_type": "markdown",
   "id": "a742a251",
   "metadata": {},
   "source": [
    "![](https://raw.githubusercontent.com/cengineer13/modern_computer_vision/main/LOGO.png)\n",
    "# **Saving or Recording Videos in OpenCV**\n",
    "\n",
    "**In this lesson we'll learn:**\n",
    "1. Save a video using cv2.VideoWriter()"
   ]
  },
  {
   "cell_type": "markdown",
   "id": "8612bac6",
   "metadata": {},
   "source": [
    "When using the **VideoWriter** object. We need to specify:\n",
    "1. the output file name and \n",
    "2. the FourCC code\n",
    "3. the number of frames per second (fps) \n",
    "4. the frame size\n",
    "5. the isColor flag (if True, the encoder expect color frame, otherwise it works with grayscale frame)\n",
    "\n",
    "**FourCC** is a 4-byte code used to specify the video codec. \n",
    "\n",
    "The list of available codes can be found in fourcc.org. It is platform dependent. The following codecs should work fine for most.\n",
    "\n",
    "- In Fedora: DIVX, XVID, MJPG, X264, WMV1, WMV2. (XVID is more preferable. MJPG results in high size video. X264 gives very small size video)\n",
    "- In Windows: DIVX (More to be tested and added)\n",
    "- In OSX: MJPG (.mp4), DIVX (.avi), X264 (.mkv).\n",
    "\n",
    "FourCC code is passed as `cv.VideoWriter_fourcc('M','J','P','G')or cv.VideoWriter_fourcc(*'MJPG')` for MJPG."
   ]
  },
  {
   "cell_type": "code",
   "execution_count": 5,
   "id": "faa5a5c3",
   "metadata": {},
   "outputs": [],
   "source": [
    "import cv2\n",
    "\n",
    "# Load video clip\n",
    "cap = cv2.VideoCapture('Datasets/videos/drummer.mp4')\n",
    "\n",
    "# Get the height and width of the frame (required to be an interger)\n",
    "w = int(cap.get(3)) \n",
    "h = int(cap.get(4))\n",
    "\n",
    "# Define the codec and create VideoWriter object. The output is stored in '*.avi' file.\n",
    "out = cv2.VideoWriter('Datasets/videos/output/black_drummer.avi', cv2.VideoWriter_fourcc('M','J','P','G'), 30, (w, h), False)\n",
    "\n",
    "while(1):\n",
    "\n",
    "    ret, frame = cap.read()\n",
    "\n",
    "    if ret == True:\n",
    "        gray = cv2.cvtColor(frame, cv2.COLOR_BGR2GRAY)\n",
    "        out.write(gray) #write to disk\n",
    "    \n",
    "    \n",
    "    else:\n",
    "        break\n",
    "        print(\"Converted Video to Grayscale..\")\n",
    "    cv2.imshow('gray', gray) \n",
    "    if cv2.waitKey(1) == ord('q'):\n",
    "        print(\"Stream is stopped manually\")\n",
    "        break\n",
    "        \n",
    "        \n",
    "cap.release()\n",
    "out.release()\n",
    "cv2.destroyAllWindows()"
   ]
  }
 ],
 "metadata": {
  "kernelspec": {
   "display_name": "AI",
   "language": "python",
   "name": "ai"
  },
  "language_info": {
   "codemirror_mode": {
    "name": "ipython",
    "version": 3
   },
   "file_extension": ".py",
   "mimetype": "text/x-python",
   "name": "python",
   "nbconvert_exporter": "python",
   "pygments_lexer": "ipython3",
   "version": "3.9.5"
  }
 },
 "nbformat": 4,
 "nbformat_minor": 5
}
