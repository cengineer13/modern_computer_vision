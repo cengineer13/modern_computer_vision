{
 "cells": [
  {
   "cell_type": "markdown",
   "id": "afb3cd6a",
   "metadata": {},
   "source": [
    "![](https://raw.githubusercontent.com/cengineer13/modern_computer_vision/main/LOGO.png)\n",
    "\n",
    "# **Video Streams and CCTV - RSTP and IP**\n",
    "\n",
    "#### **In this lesson we'll learn how to import RTSP and IP Camera Streams in OpenCV**"
   ]
  },
  {
   "cell_type": "markdown",
   "id": "8131ad2b",
   "metadata": {},
   "source": [
    "### **RTSP Real Time Streaming Protocol**\n",
    "\n",
    "RSPT is client-server multimedia presentation control protocol, designed to address the needs for efficient delivery of streamed multimedia over IP networks. The underlying protocol used for RTSP is RTP protocol. \n",
    "\n",
    "RTSP was developed by RealNetworks, Netscape and Columbia University around 1996. It a protocol that is used for transferring real-time multimedia data (e.g audio/video) between client and a server. Usually a Client requests and server responds to the request with the data over this protocol. As it is a streaming protocol, with real time capability which means that the data is being simultaneously transferred and rendered in realtime. Here the multimedia data is encapsulated under Real-time Transport Protocol (RTP) packets. So its not RTSP who does the work, its the RTP. Most of the \n",
    "\n",
    "![](https://upload.wikimedia.org/wikipedia/commons/3/38/Zuragb.jpg)"
   ]
  },
  {
   "cell_type": "code",
   "execution_count": 11,
   "id": "81b1c3cf",
   "metadata": {},
   "outputs": [],
   "source": [
    "import cv2\n",
    "\n",
    "# Our Free Test RSTP Link\n",
    "# You can configure your CCTV IPTV Cameras to output a RSTP Stream\n",
    "cap = cv2.VideoCapture(\"rtsp://wowzaec2demo.streamlock.net/vod/mp4:BigBuckBunny_115k.mp4\")\n",
    "\n",
    "while(1):\n",
    "    \n",
    "    ret, frame = cap.read()\n",
    "    \n",
    "    if ret:\n",
    "        cv2.imshow('RTSP Stream', frame)\n",
    "    \n",
    "    else: \n",
    "        print(\"Streaming is error\")\n",
    "    \n",
    "    if cv2.waitKey(1) == ord('q'): #13 is the Enter Key\n",
    "        break\n",
    "        \n",
    "# Release camera and close windows\n",
    "cap.release()\n",
    "cv2.destroyAllWindows()      "
   ]
  },
  {
   "cell_type": "markdown",
   "id": "bf53eb17",
   "metadata": {},
   "source": [
    "### **Interested in Ingesting Multiple IP Streams Easily? Look at ImageZMG**\n",
    "\n",
    "- https://github.com/jeffbass/imagezmq#introduction\n",
    "- https://www.pyimageconf.com/static/talks/jeff_bass.pdf\n",
    "\n",
    "### for details using Raspery Pi: https://pyimagesearch.com/2019/04/15/live-video-streaming-over-network-with-opencv-and-imagezmq/"
   ]
  },
  {
   "cell_type": "code",
   "execution_count": 12,
   "id": "31582af6",
   "metadata": {},
   "outputs": [],
   "source": [
    "# You will need to install ImageZMQ first\n",
    "#!pip install imagezmq"
   ]
  }
 ],
 "metadata": {
  "kernelspec": {
   "display_name": "AI",
   "language": "python",
   "name": "ai"
  },
  "language_info": {
   "codemirror_mode": {
    "name": "ipython",
    "version": 3
   },
   "file_extension": ".py",
   "mimetype": "text/x-python",
   "name": "python",
   "nbconvert_exporter": "python",
   "pygments_lexer": "ipython3",
   "version": "3.9.5"
  }
 },
 "nbformat": 4,
 "nbformat_minor": 5
}
