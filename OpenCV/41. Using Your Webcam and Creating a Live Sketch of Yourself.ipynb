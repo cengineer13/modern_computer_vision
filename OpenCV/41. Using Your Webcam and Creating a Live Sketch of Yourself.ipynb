{
 "cells": [
  {
   "cell_type": "markdown",
   "id": "fe61ef0b",
   "metadata": {},
   "source": [
    "![](https://raw.githubusercontent.com/cengineer13/modern_computer_vision/main/LOGO.png)\n",
    "# **Using Your Webcam in OpenCV**\n",
    "\n",
    "**In this lesson we'll learn:**\n",
    "1. Open a video stream from your webcam using cv2.VideoCapture()\n",
    "2. Apply a sketch function to your webcam input\n",
    "\n",
    "## **Open Video from your Webcam**"
   ]
  },
  {
   "cell_type": "code",
   "execution_count": 5,
   "id": "97e192a5",
   "metadata": {},
   "outputs": [],
   "source": [
    "import cv2\n",
    "import numpy as np\n",
    "\n",
    "# Initialize webcam, cap is the object provided by VideoCapture\n",
    "cap = cv2.VideoCapture(0)\n",
    "\n",
    "while True:\n",
    "    # It contains a boolean indicating if it was sucessful (ret)\n",
    "    # It also contains the images collected from the webcam (frame)\n",
    "    ret, frame = cap.read()\n",
    "    \n",
    "    cv2.imshow('Our Webcam Video', frame)\n",
    "    \n",
    "    if cv2.waitKey(1) == ord('q'): #q is the Enter Key\n",
    "        break\n",
    "        \n",
    "# Release camera and close windows\n",
    "cap.release()\n",
    "cv2.destroyAllWindows()      "
   ]
  },
  {
   "cell_type": "markdown",
   "id": "7c324b5f",
   "metadata": {},
   "source": [
    "## **Use Your Webcam Feed to Create a Live Sketch of Yourself**"
   ]
  },
  {
   "cell_type": "code",
   "execution_count": 6,
   "id": "37f2f5ac",
   "metadata": {},
   "outputs": [],
   "source": [
    "import cv2\n",
    "import numpy as np\n",
    "\n",
    "# Our sketch generating function\n",
    "def sketch(image):\n",
    "    # Convert image to grayscale\n",
    "    img_gray = cv2.cvtColor(image, cv2.COLOR_BGR2GRAY)\n",
    "    \n",
    "    # Clean up image using Guassian Blur\n",
    "    img_gray_blur = cv2.GaussianBlur(img_gray, (5,5), 0)\n",
    "    \n",
    "    # Extract edges\n",
    "    canny_edges = cv2.Canny(img_gray_blur, 10, 70)\n",
    "    \n",
    "    # Do an invert binarize the image \n",
    "    ret, mask = cv2.threshold(canny_edges, 70, 255, cv2.THRESH_BINARY_INV)\n",
    "    return mask\n",
    "\n",
    "\n",
    "# Initialize webcam, cap is the object provided by VideoCapture\n",
    "cap = cv2.VideoCapture(0)\n",
    "\n",
    "while True:\n",
    "    # It contains a boolean indicating if it was sucessful (ret)\n",
    "    # It also contains the images collected from the webcam (frame)\n",
    "    ret, frame = cap.read()\n",
    "    # We pass our frame to our sketch function directly inside cv2.imshow()\n",
    "    cv2.imshow('Our Live Sketcher', sketch(frame))\n",
    "    if cv2.waitKey(1) == ord('q'): #q is the Enter Key\n",
    "        break\n",
    "        \n",
    "# Release camera and close windows\n",
    "cap.release()\n",
    "cv2.destroyAllWindows()      "
   ]
  }
 ],
 "metadata": {
  "kernelspec": {
   "display_name": "AI",
   "language": "python",
   "name": "ai"
  },
  "language_info": {
   "codemirror_mode": {
    "name": "ipython",
    "version": 3
   },
   "file_extension": ".py",
   "mimetype": "text/x-python",
   "name": "python",
   "nbconvert_exporter": "python",
   "pygments_lexer": "ipython3",
   "version": "3.9.5"
  }
 },
 "nbformat": 4,
 "nbformat_minor": 5
}
