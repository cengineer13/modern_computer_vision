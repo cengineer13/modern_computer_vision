{
 "cells": [
  {
   "cell_type": "markdown",
   "id": "881bfd13",
   "metadata": {},
   "source": [
    "![](https://raw.githubusercontent.com/cengineer13/modern_computer_vision/main/LOGO.png)\n",
    "\n",
    "# **Auto Reconnect to RSTP Stream**\n",
    "\n",
    "#### **In this lesson we'll learn how to use a class to enable auto reconnection to a video stream**"
   ]
  },
  {
   "cell_type": "code",
   "execution_count": 2,
   "id": "043c3fdf",
   "metadata": {},
   "outputs": [],
   "source": [
    "import cv2\n",
    "import requests  \n",
    "import time  \n",
    "\n",
    "class VideoCapture:\n",
    "    def __init__(self, cam_address, cam_force_address=None, blocking=False):\n",
    "        \"\"\"\n",
    "        cam_address: ip address of the camera feed\n",
    "        cam_force_address: ip address to disconnect other clients (forcefully take over)\n",
    "        blocking: if true read() and connect_camera() methods blocked until ip camera is reconnected\n",
    "        \"\"\"\n",
    "        self.cam_address = cam_address\n",
    "        self.cam_force_address = cam_force_address\n",
    "        self.blocking = blocking\n",
    "        self.capture = None\n",
    "        \n",
    "        # NOTE: Can be increased to reduce printing\n",
    "        self.RECONNECTION_PERIOD = 0.5\n",
    "        # Calls the connect method\n",
    "        self.connect_camera()\n",
    "\n",
    "    def connect_camera(self):\n",
    "        print(\"Connecting...\")\n",
    "        while True:\n",
    "            try:\n",
    "                if self.cam_force_address is not None:\n",
    "                    requests.get(self.cam_force_address)\n",
    "\n",
    "                self.capture = cv2.VideoCapture(self.cam_address)\n",
    "\n",
    "                if not self.capture.isOpened():\n",
    "                    time.sleep(self.RECONNECTION_PERIOD)\n",
    "                    raise Exception(\"Could not connect to a camera: {0}\".format(self.cam_address))\n",
    "\n",
    "                print(\"Connected to a camera: {}\".format(self.cam_address))\n",
    "\n",
    "                break\n",
    "            except Exception as e:\n",
    "                print(e)\n",
    "\n",
    "                if self.blocking is False:\n",
    "                    break\n",
    "\n",
    "                time.sleep(self.RECONNECTION_PERIOD)\n",
    "\n",
    "    def getStream(self):\n",
    "        \"\"\"\n",
    "        Reads frame and if frame is not received tries to reconnect the camera\n",
    "\n",
    "        :return: ret - bool witch specifies if frame was read successfully\n",
    "                 frame - opencv image from the camera\n",
    "        \"\"\"\n",
    "\n",
    "        ret, frame = self.capture.read()\n",
    "\n",
    "        # If feed goes down we try to reconnect\n",
    "        if ret is False:\n",
    "            self.connect_camera()\n",
    "\n",
    "        return ret, frame"
   ]
  },
  {
   "cell_type": "code",
   "execution_count": 5,
   "id": "f45c3eaf",
   "metadata": {},
   "outputs": [
    {
     "name": "stdout",
     "output_type": "stream",
     "text": [
      "Connecting...\n",
      "Connected to a camera: rtsp://wowzaec2demo.streamlock.net/vod/mp4:BigBuckBunny_115k.mp4\n",
      "Exited...\n"
     ]
    }
   ],
   "source": [
    "cap = VideoCapture(\"rtsp://wowzaec2demo.streamlock.net/vod/mp4:BigBuckBunny_115k.mp4\")\n",
    "\n",
    "while(1):\n",
    "    ret, frame = cap.getStream()\n",
    "    \n",
    "    # Note this will keep the loop running until you force the program to exit\n",
    "    try:\n",
    "        cv2.imshow('RTSP Stream', frame)\n",
    "    except:\n",
    "        print(\"Feed has gone down...\")\n",
    "        \n",
    "    if cv2.waitKey(1) == ord('q'): #1 is the Enter Key\n",
    "        print(\"Exited...\")\n",
    "        break\n",
    "        \n",
    "# Release camera and close windows\n",
    "cv2.destroyAllWindows()   "
   ]
  },
  {
   "cell_type": "code",
   "execution_count": null,
   "id": "7d9be0c3",
   "metadata": {},
   "outputs": [],
   "source": []
  }
 ],
 "metadata": {
  "kernelspec": {
   "display_name": "AI",
   "language": "python",
   "name": "ai"
  },
  "language_info": {
   "codemirror_mode": {
    "name": "ipython",
    "version": 3
   },
   "file_extension": ".py",
   "mimetype": "text/x-python",
   "name": "python",
   "nbconvert_exporter": "python",
   "pygments_lexer": "ipython3",
   "version": "3.9.5"
  }
 },
 "nbformat": 4,
 "nbformat_minor": 5
}
